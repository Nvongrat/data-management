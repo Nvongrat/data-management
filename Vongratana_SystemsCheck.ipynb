{
 "cells": [
  {
   "cell_type": "markdown",
   "id": "307bf103",
   "metadata": {},
   "source": [
    "**Goals For This Class**\n",
    "    1. Learn more about data analysis\n",
    "    2. Proceed with my major\n",
    "    3. Apply lessons\n",
    "**About Me**\n",
    "    I am a senior with Autism"
   ]
  }
 ],
 "metadata": {
  "kernelspec": {
   "display_name": "Python 3 (ipykernel)",
   "language": "python",
   "name": "python3"
  },
  "language_info": {
   "codemirror_mode": {
    "name": "ipython",
    "version": 3
   },
   "file_extension": ".py",
   "mimetype": "text/x-python",
   "name": "python",
   "nbconvert_exporter": "python",
   "pygments_lexer": "ipython3",
   "version": "3.11.4"
  }
 },
 "nbformat": 4,
 "nbformat_minor": 5
}
